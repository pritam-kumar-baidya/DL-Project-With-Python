{
 "cells": [
  {
   "cell_type": "code",
   "execution_count": 15,
   "id": "dafa8453",
   "metadata": {},
   "outputs": [],
   "source": [
    "import math \n",
    "import numpy as np # Linear algebra\n",
    "import matplotlib.pyplot as plt\n",
    "%matplotlib inline"
   ]
  },
  {
   "cell_type": "code",
   "execution_count": 16,
   "id": "9e3fff4f",
   "metadata": {},
   "outputs": [],
   "source": [
    "def SigmoidActivationsFunctions(number):\n",
    "    store=[]\n",
    "    for i in number:\n",
    "        rusalt=1/(1+np.exp(-i))\n",
    "        store.append(rusalt)\n",
    "    return store"
   ]
  },
  {
   "cell_type": "code",
   "execution_count": 17,
   "id": "a4ed73cd",
   "metadata": {},
   "outputs": [
    {
     "data": {
      "image/png": "[encoded data removed]",
      "text/plain": [
       "<Figure size 432x288 with 1 Axes>"
      ]
     },
     "metadata": {
      "needs_background": "light"
     },
     "output_type": "display_data"
    }
   ],
   "source": [
    "random_number=np.arange(-20.0,20.0,0.2)\n",
    "sigmoid=SigmoidActivationsFunctions(random_number)\n",
    "plt.plot(random_number,sigmoid)\n",
    "ax=plt.gca()\n",
    "plt.show()"
   ]
  },
  {
   "cell_type": "code",
   "execution_count": 23,
   "id": "6e5e84ee",
   "metadata": {},
   "outputs": [],
   "source": [
    "def SigmoidActivationsFunctions1(number):\n",
    "    tanhvalue = []\n",
    "    for i in number:\n",
    "        initialValue = 0\n",
    "        if i < 0:\n",
    "            initialValue = 0\n",
    "            tanhvalue.append(initialValue)\n",
    "        elif i > 0:\n",
    "            initialValue=1\n",
    "            tanhvalue.append(initialValue)\n",
    "    return tanhvalue"
   ]
  },
  {
   "cell_type": "code",
   "execution_count": 24,
   "id": "6d9610bb",
   "metadata": {},
   "outputs": [
    {
     "data": {
      "image/png": "[encoded data removed]",
      "text/plain": [
       "<Figure size 432x288 with 1 Axes>"
      ]
     },
     "metadata": {
      "needs_background": "light"
     },
     "output_type": "display_data"
    }
   ],
   "source": [
    "random_number1=np.arange(-20.0,20.0,0.2)\n",
    "sigmoid=SigmoidActivationsFunctions1(random_number)\n",
    "plt.plot(random_number,sigmoid)\n",
    "ax=plt.gca()\n",
    "plt.show()"
   ]
  },
  {
   "cell_type": "code",
   "execution_count": null,
   "id": "9246448a",
   "metadata": {},
   "outputs": [],
   "source": []
  }
 ],
 "metadata": {
  "kernelspec": {
   "display_name": "Python 3 (ipykernel)",
   "language": "python",
   "name": "python3"
  },
  "language_info": {
   "codemirror_mode": {
    "name": "ipython",
    "version": 3
   },
   "file_extension": ".py",
   "mimetype": "text/x-python",
   "name": "python",
   "nbconvert_exporter": "python",
   "pygments_lexer": "ipython3",
   "version": "3.9.7"
  }
 },
 "nbformat": 4,
 "nbformat_minor": 5
}
