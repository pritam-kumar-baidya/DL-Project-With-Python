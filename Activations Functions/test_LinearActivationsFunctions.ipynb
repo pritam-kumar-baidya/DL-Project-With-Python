{
 "cells": [
  {
   "cell_type": "code",
   "execution_count": 2,
   "id": "dd919715",
   "metadata": {},
   "outputs": [],
   "source": [
    "import numpy as np\n",
    "import matplotlib.pyplot as plt\n",
    "import pandas as pd \n",
    "import seaborn as sb\n",
    "%matplotlib inline "
   ]
  },
  {
   "cell_type": "code",
   "execution_count": 4,
   "id": "53a71c91",
   "metadata": {},
   "outputs": [],
   "source": [
    "random_number = np.arange(-20.0,20.0,0.2)"
   ]
  },
  {
   "cell_type": "code",
   "execution_count": 7,
   "id": "6ce3e2ff",
   "metadata": {},
   "outputs": [],
   "source": [
    "def linear(number):\n",
    "    store=[]\n",
    "    for i in number:\n",
    "        store.append(i)\n",
    "    return store"
   ]
  },
  {
   "cell_type": "code",
   "execution_count": 8,
   "id": "95f757a1",
   "metadata": {},
   "outputs": [],
   "source": [
    "l=linear(random_number)"
   ]
  },
  {
   "cell_type": "code",
   "execution_count": 9,
   "id": "3e12c0ba",
   "metadata": {},
   "outputs": [
    {
     "data": {
      "text/plain": [
       "[<matplotlib.lines.Line2D at 0x19f87cb9f40>]"
      ]
     },
     "execution_count": 9,
     "metadata": {},
     "output_type": "execute_result"
    },
    {
     "data": {
      "image/png": "[encoded data removed]",
      "text/plain": [
       "<Figure size 432x288 with 1 Axes>"
      ]
     },
     "metadata": {
      "needs_background": "light"
     },
     "output_type": "display_data"
    }
   ],
   "source": [
    "plt.plot(l,random_number)"
   ]
  },
  {
   "cell_type": "code",
   "execution_count": null,
   "id": "1cec072e",
   "metadata": {},
   "outputs": [],
   "source": []
  }
 ],
 "metadata": {
  "kernelspec": {
   "display_name": "Python 3 (ipykernel)",
   "language": "python",
   "name": "python3"
  },
  "language_info": {
   "codemirror_mode": {
    "name": "ipython",
    "version": 3
   },
   "file_extension": ".py",
   "mimetype": "text/x-python",
   "name": "python",
   "nbconvert_exporter": "python",
   "pygments_lexer": "ipython3",
   "version": "3.9.7"
  }
 },
 "nbformat": 4,
 "nbformat_minor": 5
}
