{
 "cells": [
  {
   "cell_type": "code",
   "execution_count": 2,
   "id": "13145ecb",
   "metadata": {},
   "outputs": [],
   "source": [
    "import torch.nn as nn"
   ]
  },
  {
   "cell_type": "code",
   "execution_count": 3,
   "id": "3aa5ea36",
   "metadata": {},
   "outputs": [],
   "source": [
    "from tensorflow.keras.layers import Dense, Conv2D"
   ]
  },
  {
   "cell_type": "code",
   "execution_count": 4,
   "id": "96c79ae8",
   "metadata": {},
   "outputs": [],
   "source": [
    "import pandas as pd\n",
    "import numpy as np"
   ]
  },
  {
   "cell_type": "code",
   "execution_count": 6,
   "id": "c7f3ce53",
   "metadata": {},
   "outputs": [],
   "source": [
    "class CustomNeuralNetwork(nn.Module):\n",
    "    \n",
    "    def __init__(self):\n",
    "        super().__init__()\n",
    "#         layer1\n",
    "        self.conv1=nn.Conv2d(in_channels=1,out_channels=6,kernel_size=5,stride=(2,2))\n",
    "        self.conv2=nn.Conv2d(in_channels=6,out_channels=12,kernel_size=5,stride=(2,2))\n",
    "        \n",
    "#         fully connected layer\n",
    "        self.fcn1=nn.Linear(in_features=12*4*4,out_features=120,bias=False)\n",
    "        self.fcn2=nn.Linear(in_features=120,out_features=60,bias=False)\n",
    "        \n",
    "        \n",
    "#         Flatten() --> Connected Layer or Bridge Layer 2D - 1D\n",
    "    \n",
    "        self.outnode=nn.Linear(in_features=60,out_features=20,bias=False)\n",
    "        \n",
    "        \n",
    "        \n",
    "    def ForwardPropagation(self,time):\n",
    "        return time \n",
    "    \n",
    "    \n",
    "\n",
    "    "
   ]
  },
  {
   "cell_type": "code",
   "execution_count": 7,
   "id": "6b6ff78b",
   "metadata": {},
   "outputs": [],
   "source": [
    "network = CustomNeuralNetwork()"
   ]
  },
  {
   "cell_type": "code",
   "execution_count": 8,
   "id": "2d61d2ee",
   "metadata": {},
   "outputs": [
    {
     "name": "stdout",
     "output_type": "stream",
     "text": [
      "CustomNeuralNetwork(\n",
      "  (conv1): Conv2d(1, 6, kernel_size=(5, 5), stride=(2, 2))\n",
      "  (conv2): Conv2d(6, 12, kernel_size=(5, 5), stride=(2, 2))\n",
      "  (fcn1): Linear(in_features=192, out_features=120, bias=False)\n",
      "  (fcn2): Linear(in_features=120, out_features=60, bias=False)\n",
      "  (outnode): Linear(in_features=60, out_features=20, bias=False)\n",
      ")\n"
     ]
    }
   ],
   "source": [
    "print(network)"
   ]
  },
  {
   "cell_type": "code",
   "execution_count": 45,
   "id": "ab8eca36",
   "metadata": {},
   "outputs": [
    {
     "name": "stdout",
     "output_type": "stream",
     "text": [
      "conv1.weight \t torch.Size([6, 1, 5, 5])\n",
      "conv1.bias \t torch.Size([6])\n",
      "conv2.weight \t torch.Size([12, 6, 5, 5])\n",
      "conv2.bias \t torch.Size([12])\n",
      "fcn1.weight \t torch.Size([120, 192])\n",
      "fcn2.weight \t torch.Size([60, 120])\n",
      "outnode.weight \t torch.Size([20, 60])\n"
     ]
    }
   ],
   "source": [
    "for layerName, param in network.named_parameters():\n",
    "    print(layerName, \"\\t\", param.shape)"
   ]
  },
  {
   "cell_type": "code",
   "execution_count": null,
   "id": "ff19aa1c",
   "metadata": {},
   "outputs": [],
   "source": []
  }
 ],
 "metadata": {
  "kernelspec": {
   "display_name": "Python 3 (ipykernel)",
   "language": "python",
   "name": "python3"
  },
  "language_info": {
   "codemirror_mode": {
    "name": "ipython",
    "version": 3
   },
   "file_extension": ".py",
   "mimetype": "text/x-python",
   "name": "python",
   "nbconvert_exporter": "python",
   "pygments_lexer": "ipython3",
   "version": "3.9.12"
  }
 },
 "nbformat": 4,
 "nbformat_minor": 5
}
